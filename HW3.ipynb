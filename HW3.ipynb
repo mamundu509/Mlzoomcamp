{
 "cells": [
  {
   "cell_type": "code",
   "execution_count": 149,
   "metadata": {
    "collapsed": true,
    "ExecuteTime": {
     "end_time": "2023-09-28T15:19:42.995998Z",
     "start_time": "2023-09-28T15:19:42.859720300Z"
    }
   },
   "outputs": [],
   "source": [
    "import pandas as pd\n",
    "import numpy as np\n",
    "import matplotlib.pyplot as plt\n",
    "from sklearn.model_selection import train_test_split\n",
    "from sklearn.metrics import accuracy_score\n",
    "from sklearn.metrics import mean_squared_error as mse\n",
    "from sklearn.metrics import mutual_info_score\n",
    "from sklearn.linear_model import LinearRegression, RidgeCV,Ridge\n",
    "from sklearn.linear_model import LogisticRegression\n",
    "from sklearn.feature_selection import RFE\n",
    "import wget"
   ]
  },
  {
   "cell_type": "code",
   "execution_count": 2,
   "outputs": [
    {
     "data": {
      "text/plain": "'car_data.csv'"
     },
     "execution_count": 2,
     "metadata": {},
     "output_type": "execute_result"
    }
   ],
   "source": [
    "url = 'https://raw.githubusercontent.com/alexeygrigorev/mlbookcamp-code/master/chapter-02-car-price/data.csv'\n",
    "wget.download(url,'car_data.csv')"
   ],
   "metadata": {
    "collapsed": false,
    "ExecuteTime": {
     "end_time": "2023-09-27T17:09:27.831313300Z",
     "start_time": "2023-09-27T17:09:27.402750600Z"
    }
   }
  },
  {
   "cell_type": "code",
   "execution_count": 103,
   "outputs": [
    {
     "data": {
      "text/plain": "          Make       Model  Year                Engine Fuel Type  Engine HP  \\\n0          BMW  1 Series M  2011     premium unleaded (required)      335.0   \n1          BMW    1 Series  2011     premium unleaded (required)      300.0   \n2          BMW    1 Series  2011     premium unleaded (required)      300.0   \n3          BMW    1 Series  2011     premium unleaded (required)      230.0   \n4          BMW    1 Series  2011     premium unleaded (required)      230.0   \n...        ...         ...   ...                             ...        ...   \n11909    Acura         ZDX  2012     premium unleaded (required)      300.0   \n11910    Acura         ZDX  2012     premium unleaded (required)      300.0   \n11911    Acura         ZDX  2012     premium unleaded (required)      300.0   \n11912    Acura         ZDX  2013  premium unleaded (recommended)      300.0   \n11913  Lincoln      Zephyr  2006                regular unleaded      221.0   \n\n       Engine Cylinders Transmission Type      Driven_Wheels  Number of Doors  \\\n0                   6.0            MANUAL   rear wheel drive              2.0   \n1                   6.0            MANUAL   rear wheel drive              2.0   \n2                   6.0            MANUAL   rear wheel drive              2.0   \n3                   6.0            MANUAL   rear wheel drive              2.0   \n4                   6.0            MANUAL   rear wheel drive              2.0   \n...                 ...               ...                ...              ...   \n11909               6.0         AUTOMATIC    all wheel drive              4.0   \n11910               6.0         AUTOMATIC    all wheel drive              4.0   \n11911               6.0         AUTOMATIC    all wheel drive              4.0   \n11912               6.0         AUTOMATIC    all wheel drive              4.0   \n11913               6.0         AUTOMATIC  front wheel drive              4.0   \n\n                             Market Category Vehicle Size  Vehicle Style  \\\n0      Factory Tuner,Luxury,High-Performance      Compact          Coupe   \n1                         Luxury,Performance      Compact    Convertible   \n2                    Luxury,High-Performance      Compact          Coupe   \n3                         Luxury,Performance      Compact          Coupe   \n4                                     Luxury      Compact    Convertible   \n...                                      ...          ...            ...   \n11909             Crossover,Hatchback,Luxury      Midsize  4dr Hatchback   \n11910             Crossover,Hatchback,Luxury      Midsize  4dr Hatchback   \n11911             Crossover,Hatchback,Luxury      Midsize  4dr Hatchback   \n11912             Crossover,Hatchback,Luxury      Midsize  4dr Hatchback   \n11913                                 Luxury      Midsize          Sedan   \n\n       highway MPG  city mpg  Popularity   MSRP  \n0               26        19        3916  46135  \n1               28        19        3916  40650  \n2               28        20        3916  36350  \n3               28        18        3916  29450  \n4               28        18        3916  34500  \n...            ...       ...         ...    ...  \n11909           23        16         204  46120  \n11910           23        16         204  56670  \n11911           23        16         204  50620  \n11912           23        16         204  50920  \n11913           26        17          61  28995  \n\n[11914 rows x 16 columns]",
      "text/html": "<div>\n<style scoped>\n    .dataframe tbody tr th:only-of-type {\n        vertical-align: middle;\n    }\n\n    .dataframe tbody tr th {\n        vertical-align: top;\n    }\n\n    .dataframe thead th {\n        text-align: right;\n    }\n</style>\n<table border=\"1\" class=\"dataframe\">\n  <thead>\n    <tr style=\"text-align: right;\">\n      <th></th>\n      <th>Make</th>\n      <th>Model</th>\n      <th>Year</th>\n      <th>Engine Fuel Type</th>\n      <th>Engine HP</th>\n      <th>Engine Cylinders</th>\n      <th>Transmission Type</th>\n      <th>Driven_Wheels</th>\n      <th>Number of Doors</th>\n      <th>Market Category</th>\n      <th>Vehicle Size</th>\n      <th>Vehicle Style</th>\n      <th>highway MPG</th>\n      <th>city mpg</th>\n      <th>Popularity</th>\n      <th>MSRP</th>\n    </tr>\n  </thead>\n  <tbody>\n    <tr>\n      <th>0</th>\n      <td>BMW</td>\n      <td>1 Series M</td>\n      <td>2011</td>\n      <td>premium unleaded (required)</td>\n      <td>335.0</td>\n      <td>6.0</td>\n      <td>MANUAL</td>\n      <td>rear wheel drive</td>\n      <td>2.0</td>\n      <td>Factory Tuner,Luxury,High-Performance</td>\n      <td>Compact</td>\n      <td>Coupe</td>\n      <td>26</td>\n      <td>19</td>\n      <td>3916</td>\n      <td>46135</td>\n    </tr>\n    <tr>\n      <th>1</th>\n      <td>BMW</td>\n      <td>1 Series</td>\n      <td>2011</td>\n      <td>premium unleaded (required)</td>\n      <td>300.0</td>\n      <td>6.0</td>\n      <td>MANUAL</td>\n      <td>rear wheel drive</td>\n      <td>2.0</td>\n      <td>Luxury,Performance</td>\n      <td>Compact</td>\n      <td>Convertible</td>\n      <td>28</td>\n      <td>19</td>\n      <td>3916</td>\n      <td>40650</td>\n    </tr>\n    <tr>\n      <th>2</th>\n      <td>BMW</td>\n      <td>1 Series</td>\n      <td>2011</td>\n      <td>premium unleaded (required)</td>\n      <td>300.0</td>\n      <td>6.0</td>\n      <td>MANUAL</td>\n      <td>rear wheel drive</td>\n      <td>2.0</td>\n      <td>Luxury,High-Performance</td>\n      <td>Compact</td>\n      <td>Coupe</td>\n      <td>28</td>\n      <td>20</td>\n      <td>3916</td>\n      <td>36350</td>\n    </tr>\n    <tr>\n      <th>3</th>\n      <td>BMW</td>\n      <td>1 Series</td>\n      <td>2011</td>\n      <td>premium unleaded (required)</td>\n      <td>230.0</td>\n      <td>6.0</td>\n      <td>MANUAL</td>\n      <td>rear wheel drive</td>\n      <td>2.0</td>\n      <td>Luxury,Performance</td>\n      <td>Compact</td>\n      <td>Coupe</td>\n      <td>28</td>\n      <td>18</td>\n      <td>3916</td>\n      <td>29450</td>\n    </tr>\n    <tr>\n      <th>4</th>\n      <td>BMW</td>\n      <td>1 Series</td>\n      <td>2011</td>\n      <td>premium unleaded (required)</td>\n      <td>230.0</td>\n      <td>6.0</td>\n      <td>MANUAL</td>\n      <td>rear wheel drive</td>\n      <td>2.0</td>\n      <td>Luxury</td>\n      <td>Compact</td>\n      <td>Convertible</td>\n      <td>28</td>\n      <td>18</td>\n      <td>3916</td>\n      <td>34500</td>\n    </tr>\n    <tr>\n      <th>...</th>\n      <td>...</td>\n      <td>...</td>\n      <td>...</td>\n      <td>...</td>\n      <td>...</td>\n      <td>...</td>\n      <td>...</td>\n      <td>...</td>\n      <td>...</td>\n      <td>...</td>\n      <td>...</td>\n      <td>...</td>\n      <td>...</td>\n      <td>...</td>\n      <td>...</td>\n      <td>...</td>\n    </tr>\n    <tr>\n      <th>11909</th>\n      <td>Acura</td>\n      <td>ZDX</td>\n      <td>2012</td>\n      <td>premium unleaded (required)</td>\n      <td>300.0</td>\n      <td>6.0</td>\n      <td>AUTOMATIC</td>\n      <td>all wheel drive</td>\n      <td>4.0</td>\n      <td>Crossover,Hatchback,Luxury</td>\n      <td>Midsize</td>\n      <td>4dr Hatchback</td>\n      <td>23</td>\n      <td>16</td>\n      <td>204</td>\n      <td>46120</td>\n    </tr>\n    <tr>\n      <th>11910</th>\n      <td>Acura</td>\n      <td>ZDX</td>\n      <td>2012</td>\n      <td>premium unleaded (required)</td>\n      <td>300.0</td>\n      <td>6.0</td>\n      <td>AUTOMATIC</td>\n      <td>all wheel drive</td>\n      <td>4.0</td>\n      <td>Crossover,Hatchback,Luxury</td>\n      <td>Midsize</td>\n      <td>4dr Hatchback</td>\n      <td>23</td>\n      <td>16</td>\n      <td>204</td>\n      <td>56670</td>\n    </tr>\n    <tr>\n      <th>11911</th>\n      <td>Acura</td>\n      <td>ZDX</td>\n      <td>2012</td>\n      <td>premium unleaded (required)</td>\n      <td>300.0</td>\n      <td>6.0</td>\n      <td>AUTOMATIC</td>\n      <td>all wheel drive</td>\n      <td>4.0</td>\n      <td>Crossover,Hatchback,Luxury</td>\n      <td>Midsize</td>\n      <td>4dr Hatchback</td>\n      <td>23</td>\n      <td>16</td>\n      <td>204</td>\n      <td>50620</td>\n    </tr>\n    <tr>\n      <th>11912</th>\n      <td>Acura</td>\n      <td>ZDX</td>\n      <td>2013</td>\n      <td>premium unleaded (recommended)</td>\n      <td>300.0</td>\n      <td>6.0</td>\n      <td>AUTOMATIC</td>\n      <td>all wheel drive</td>\n      <td>4.0</td>\n      <td>Crossover,Hatchback,Luxury</td>\n      <td>Midsize</td>\n      <td>4dr Hatchback</td>\n      <td>23</td>\n      <td>16</td>\n      <td>204</td>\n      <td>50920</td>\n    </tr>\n    <tr>\n      <th>11913</th>\n      <td>Lincoln</td>\n      <td>Zephyr</td>\n      <td>2006</td>\n      <td>regular unleaded</td>\n      <td>221.0</td>\n      <td>6.0</td>\n      <td>AUTOMATIC</td>\n      <td>front wheel drive</td>\n      <td>4.0</td>\n      <td>Luxury</td>\n      <td>Midsize</td>\n      <td>Sedan</td>\n      <td>26</td>\n      <td>17</td>\n      <td>61</td>\n      <td>28995</td>\n    </tr>\n  </tbody>\n</table>\n<p>11914 rows × 16 columns</p>\n</div>"
     },
     "execution_count": 103,
     "metadata": {},
     "output_type": "execute_result"
    }
   ],
   "source": [
    "df = pd.read_csv('car_data.csv')\n",
    "df"
   ],
   "metadata": {
    "collapsed": false,
    "ExecuteTime": {
     "end_time": "2023-09-28T12:12:31.323837700Z",
     "start_time": "2023-09-28T12:12:31.267707700Z"
    }
   }
  },
  {
   "cell_type": "code",
   "execution_count": 104,
   "outputs": [
    {
     "name": "stdout",
     "output_type": "stream",
     "text": [
      "<class 'pandas.core.frame.DataFrame'>\n",
      "RangeIndex: 11914 entries, 0 to 11913\n",
      "Data columns (total 16 columns):\n",
      " #   Column             Non-Null Count  Dtype  \n",
      "---  ------             --------------  -----  \n",
      " 0   Make               11914 non-null  object \n",
      " 1   Model              11914 non-null  object \n",
      " 2   Year               11914 non-null  int64  \n",
      " 3   Engine Fuel Type   11911 non-null  object \n",
      " 4   Engine HP          11845 non-null  float64\n",
      " 5   Engine Cylinders   11884 non-null  float64\n",
      " 6   Transmission Type  11914 non-null  object \n",
      " 7   Driven_Wheels      11914 non-null  object \n",
      " 8   Number of Doors    11908 non-null  float64\n",
      " 9   Market Category    8172 non-null   object \n",
      " 10  Vehicle Size       11914 non-null  object \n",
      " 11  Vehicle Style      11914 non-null  object \n",
      " 12  highway MPG        11914 non-null  int64  \n",
      " 13  city mpg           11914 non-null  int64  \n",
      " 14  Popularity         11914 non-null  int64  \n",
      " 15  MSRP               11914 non-null  int64  \n",
      "dtypes: float64(3), int64(5), object(8)\n",
      "memory usage: 1.5+ MB\n"
     ]
    }
   ],
   "source": [
    "df.info()"
   ],
   "metadata": {
    "collapsed": false,
    "ExecuteTime": {
     "end_time": "2023-09-28T12:12:31.543742600Z",
     "start_time": "2023-09-28T12:12:31.495731900Z"
    }
   }
  },
  {
   "cell_type": "code",
   "execution_count": 105,
   "outputs": [],
   "source": [
    "cols_used = ['make',\n",
    "'model',\n",
    "'year',\n",
    "'engine_hp',\n",
    "'engine_cylinders',\n",
    "'transmission_type',\n",
    "'vehicle_style',\n",
    "'highway_mpg',\n",
    "'city_mpg','price']"
   ],
   "metadata": {
    "collapsed": false,
    "ExecuteTime": {
     "end_time": "2023-09-28T12:12:31.664769200Z",
     "start_time": "2023-09-28T12:12:31.635762500Z"
    }
   }
  },
  {
   "cell_type": "code",
   "execution_count": 106,
   "outputs": [],
   "source": [
    "df.columns = df.columns.str.replace(' ', '_').str.lower()"
   ],
   "metadata": {
    "collapsed": false,
    "ExecuteTime": {
     "end_time": "2023-09-28T12:12:31.969920100Z",
     "start_time": "2023-09-28T12:12:31.950917300Z"
    }
   }
  },
  {
   "cell_type": "code",
   "execution_count": 107,
   "outputs": [],
   "source": [
    "df.rename(columns={'msrp':'price'},inplace=True)"
   ],
   "metadata": {
    "collapsed": false,
    "ExecuteTime": {
     "end_time": "2023-09-28T12:12:32.124371800Z",
     "start_time": "2023-09-28T12:12:32.102367500Z"
    }
   }
  },
  {
   "cell_type": "code",
   "execution_count": 108,
   "outputs": [],
   "source": [
    "df[cols_used] = df[cols_used].fillna(0)"
   ],
   "metadata": {
    "collapsed": false,
    "ExecuteTime": {
     "end_time": "2023-09-28T12:12:32.313457200Z",
     "start_time": "2023-09-28T12:12:32.268447400Z"
    }
   }
  },
  {
   "cell_type": "code",
   "execution_count": 166,
   "outputs": [
    {
     "data": {
      "text/plain": "          make       model  year  engine_hp  engine_cylinders  \\\n0          BMW  1 Series M  2011      335.0               6.0   \n1          BMW    1 Series  2011      300.0               6.0   \n2          BMW    1 Series  2011      300.0               6.0   \n3          BMW    1 Series  2011      230.0               6.0   \n4          BMW    1 Series  2011      230.0               6.0   \n...        ...         ...   ...        ...               ...   \n11909    Acura         ZDX  2012      300.0               6.0   \n11910    Acura         ZDX  2012      300.0               6.0   \n11911    Acura         ZDX  2012      300.0               6.0   \n11912    Acura         ZDX  2013      300.0               6.0   \n11913  Lincoln      Zephyr  2006      221.0               6.0   \n\n      transmission_type  vehicle_style  highway_mpg  city_mpg  price  \n0                MANUAL          Coupe           26        19  46135  \n1                MANUAL    Convertible           28        19  40650  \n2                MANUAL          Coupe           28        20  36350  \n3                MANUAL          Coupe           28        18  29450  \n4                MANUAL    Convertible           28        18  34500  \n...                 ...            ...          ...       ...    ...  \n11909         AUTOMATIC  4dr Hatchback           23        16  46120  \n11910         AUTOMATIC  4dr Hatchback           23        16  56670  \n11911         AUTOMATIC  4dr Hatchback           23        16  50620  \n11912         AUTOMATIC  4dr Hatchback           23        16  50920  \n11913         AUTOMATIC          Sedan           26        17  28995  \n\n[11914 rows x 10 columns]",
      "text/html": "<div>\n<style scoped>\n    .dataframe tbody tr th:only-of-type {\n        vertical-align: middle;\n    }\n\n    .dataframe tbody tr th {\n        vertical-align: top;\n    }\n\n    .dataframe thead th {\n        text-align: right;\n    }\n</style>\n<table border=\"1\" class=\"dataframe\">\n  <thead>\n    <tr style=\"text-align: right;\">\n      <th></th>\n      <th>make</th>\n      <th>model</th>\n      <th>year</th>\n      <th>engine_hp</th>\n      <th>engine_cylinders</th>\n      <th>transmission_type</th>\n      <th>vehicle_style</th>\n      <th>highway_mpg</th>\n      <th>city_mpg</th>\n      <th>price</th>\n    </tr>\n  </thead>\n  <tbody>\n    <tr>\n      <th>0</th>\n      <td>BMW</td>\n      <td>1 Series M</td>\n      <td>2011</td>\n      <td>335.0</td>\n      <td>6.0</td>\n      <td>MANUAL</td>\n      <td>Coupe</td>\n      <td>26</td>\n      <td>19</td>\n      <td>46135</td>\n    </tr>\n    <tr>\n      <th>1</th>\n      <td>BMW</td>\n      <td>1 Series</td>\n      <td>2011</td>\n      <td>300.0</td>\n      <td>6.0</td>\n      <td>MANUAL</td>\n      <td>Convertible</td>\n      <td>28</td>\n      <td>19</td>\n      <td>40650</td>\n    </tr>\n    <tr>\n      <th>2</th>\n      <td>BMW</td>\n      <td>1 Series</td>\n      <td>2011</td>\n      <td>300.0</td>\n      <td>6.0</td>\n      <td>MANUAL</td>\n      <td>Coupe</td>\n      <td>28</td>\n      <td>20</td>\n      <td>36350</td>\n    </tr>\n    <tr>\n      <th>3</th>\n      <td>BMW</td>\n      <td>1 Series</td>\n      <td>2011</td>\n      <td>230.0</td>\n      <td>6.0</td>\n      <td>MANUAL</td>\n      <td>Coupe</td>\n      <td>28</td>\n      <td>18</td>\n      <td>29450</td>\n    </tr>\n    <tr>\n      <th>4</th>\n      <td>BMW</td>\n      <td>1 Series</td>\n      <td>2011</td>\n      <td>230.0</td>\n      <td>6.0</td>\n      <td>MANUAL</td>\n      <td>Convertible</td>\n      <td>28</td>\n      <td>18</td>\n      <td>34500</td>\n    </tr>\n    <tr>\n      <th>...</th>\n      <td>...</td>\n      <td>...</td>\n      <td>...</td>\n      <td>...</td>\n      <td>...</td>\n      <td>...</td>\n      <td>...</td>\n      <td>...</td>\n      <td>...</td>\n      <td>...</td>\n    </tr>\n    <tr>\n      <th>11909</th>\n      <td>Acura</td>\n      <td>ZDX</td>\n      <td>2012</td>\n      <td>300.0</td>\n      <td>6.0</td>\n      <td>AUTOMATIC</td>\n      <td>4dr Hatchback</td>\n      <td>23</td>\n      <td>16</td>\n      <td>46120</td>\n    </tr>\n    <tr>\n      <th>11910</th>\n      <td>Acura</td>\n      <td>ZDX</td>\n      <td>2012</td>\n      <td>300.0</td>\n      <td>6.0</td>\n      <td>AUTOMATIC</td>\n      <td>4dr Hatchback</td>\n      <td>23</td>\n      <td>16</td>\n      <td>56670</td>\n    </tr>\n    <tr>\n      <th>11911</th>\n      <td>Acura</td>\n      <td>ZDX</td>\n      <td>2012</td>\n      <td>300.0</td>\n      <td>6.0</td>\n      <td>AUTOMATIC</td>\n      <td>4dr Hatchback</td>\n      <td>23</td>\n      <td>16</td>\n      <td>50620</td>\n    </tr>\n    <tr>\n      <th>11912</th>\n      <td>Acura</td>\n      <td>ZDX</td>\n      <td>2013</td>\n      <td>300.0</td>\n      <td>6.0</td>\n      <td>AUTOMATIC</td>\n      <td>4dr Hatchback</td>\n      <td>23</td>\n      <td>16</td>\n      <td>50920</td>\n    </tr>\n    <tr>\n      <th>11913</th>\n      <td>Lincoln</td>\n      <td>Zephyr</td>\n      <td>2006</td>\n      <td>221.0</td>\n      <td>6.0</td>\n      <td>AUTOMATIC</td>\n      <td>Sedan</td>\n      <td>26</td>\n      <td>17</td>\n      <td>28995</td>\n    </tr>\n  </tbody>\n</table>\n<p>11914 rows × 10 columns</p>\n</div>"
     },
     "execution_count": 166,
     "metadata": {},
     "output_type": "execute_result"
    }
   ],
   "source": [
    "df_sub = df[cols_used].copy()\n",
    "df_sub"
   ],
   "metadata": {
    "collapsed": false,
    "ExecuteTime": {
     "end_time": "2023-09-28T15:42:51.384962600Z",
     "start_time": "2023-09-28T15:42:51.348954600Z"
    }
   }
  },
  {
   "cell_type": "code",
   "execution_count": 167,
   "outputs": [
    {
     "data": {
      "text/plain": "AUTOMATIC           8266\nMANUAL              2935\nAUTOMATED_MANUAL     626\nDIRECT_DRIVE          68\nUNKNOWN               19\nName: transmission_type, dtype: int64"
     },
     "execution_count": 167,
     "metadata": {},
     "output_type": "execute_result"
    }
   ],
   "source": [
    "#Q1\n",
    "df_sub['transmission_type'].value_counts() #Automatic is the most frequent"
   ],
   "metadata": {
    "collapsed": false,
    "ExecuteTime": {
     "end_time": "2023-09-28T15:42:51.597010400Z",
     "start_time": "2023-09-28T15:42:51.573004800Z"
    }
   }
  },
  {
   "cell_type": "code",
   "execution_count": 168,
   "outputs": [
    {
     "name": "stderr",
     "output_type": "stream",
     "text": [
      "C:\\Users\\user\\AppData\\Local\\Temp\\ipykernel_30644\\518614899.py:2: FutureWarning: The default value of numeric_only in DataFrame.corr is deprecated. In a future version, it will default to False. Select only valid columns or specify the value of numeric_only to silence this warning.\n",
      "  df_sub.corr() # City_mpg & highway mpg has the highest correlation\n"
     ]
    },
    {
     "data": {
      "text/plain": "                      year  engine_hp  engine_cylinders  highway_mpg  \\\nyear              1.000000   0.338714         -0.040708     0.258240   \nengine_hp         0.338714   1.000000          0.774851    -0.415707   \nengine_cylinders -0.040708   0.774851          1.000000    -0.614541   \nhighway_mpg       0.258240  -0.415707         -0.614541     1.000000   \ncity_mpg          0.198171  -0.424918         -0.587306     0.886829   \nprice             0.227590   0.650095          0.526274    -0.160043   \n\n                  city_mpg     price  \nyear              0.198171  0.227590  \nengine_hp        -0.424918  0.650095  \nengine_cylinders -0.587306  0.526274  \nhighway_mpg       0.886829 -0.160043  \ncity_mpg          1.000000 -0.157676  \nprice            -0.157676  1.000000  ",
      "text/html": "<div>\n<style scoped>\n    .dataframe tbody tr th:only-of-type {\n        vertical-align: middle;\n    }\n\n    .dataframe tbody tr th {\n        vertical-align: top;\n    }\n\n    .dataframe thead th {\n        text-align: right;\n    }\n</style>\n<table border=\"1\" class=\"dataframe\">\n  <thead>\n    <tr style=\"text-align: right;\">\n      <th></th>\n      <th>year</th>\n      <th>engine_hp</th>\n      <th>engine_cylinders</th>\n      <th>highway_mpg</th>\n      <th>city_mpg</th>\n      <th>price</th>\n    </tr>\n  </thead>\n  <tbody>\n    <tr>\n      <th>year</th>\n      <td>1.000000</td>\n      <td>0.338714</td>\n      <td>-0.040708</td>\n      <td>0.258240</td>\n      <td>0.198171</td>\n      <td>0.227590</td>\n    </tr>\n    <tr>\n      <th>engine_hp</th>\n      <td>0.338714</td>\n      <td>1.000000</td>\n      <td>0.774851</td>\n      <td>-0.415707</td>\n      <td>-0.424918</td>\n      <td>0.650095</td>\n    </tr>\n    <tr>\n      <th>engine_cylinders</th>\n      <td>-0.040708</td>\n      <td>0.774851</td>\n      <td>1.000000</td>\n      <td>-0.614541</td>\n      <td>-0.587306</td>\n      <td>0.526274</td>\n    </tr>\n    <tr>\n      <th>highway_mpg</th>\n      <td>0.258240</td>\n      <td>-0.415707</td>\n      <td>-0.614541</td>\n      <td>1.000000</td>\n      <td>0.886829</td>\n      <td>-0.160043</td>\n    </tr>\n    <tr>\n      <th>city_mpg</th>\n      <td>0.198171</td>\n      <td>-0.424918</td>\n      <td>-0.587306</td>\n      <td>0.886829</td>\n      <td>1.000000</td>\n      <td>-0.157676</td>\n    </tr>\n    <tr>\n      <th>price</th>\n      <td>0.227590</td>\n      <td>0.650095</td>\n      <td>0.526274</td>\n      <td>-0.160043</td>\n      <td>-0.157676</td>\n      <td>1.000000</td>\n    </tr>\n  </tbody>\n</table>\n</div>"
     },
     "execution_count": 168,
     "metadata": {},
     "output_type": "execute_result"
    }
   ],
   "source": [
    "#Q2\n",
    "df_sub.corr() # City_mpg & highway mpg has the highest correlation"
   ],
   "metadata": {
    "collapsed": false,
    "ExecuteTime": {
     "end_time": "2023-09-28T15:42:51.788052800Z",
     "start_time": "2023-09-28T15:42:51.755047200Z"
    }
   }
  },
  {
   "cell_type": "code",
   "execution_count": 169,
   "outputs": [],
   "source": [
    "#Q3\n",
    "price_avg = df_sub['price'].mean()\n",
    "df_sub['above_average'] =np.where(df_sub['price']>price_avg,1,0)"
   ],
   "metadata": {
    "collapsed": false,
    "ExecuteTime": {
     "end_time": "2023-09-28T15:42:52.011102800Z",
     "start_time": "2023-09-28T15:42:51.994099300Z"
    }
   }
  },
  {
   "cell_type": "code",
   "execution_count": 170,
   "outputs": [
    {
     "data": {
      "text/plain": "0    8645\n1    3269\nName: above_average, dtype: int64"
     },
     "execution_count": 170,
     "metadata": {},
     "output_type": "execute_result"
    }
   ],
   "source": [
    "df_sub['above_average'].value_counts()"
   ],
   "metadata": {
    "collapsed": false,
    "ExecuteTime": {
     "end_time": "2023-09-28T15:42:52.475079900Z",
     "start_time": "2023-09-28T15:42:52.448075100Z"
    }
   }
  },
  {
   "cell_type": "code",
   "execution_count": 171,
   "outputs": [
    {
     "data": {
      "text/plain": "make                  object\nmodel                 object\nyear                   int64\nengine_hp            float64\nengine_cylinders     float64\ntransmission_type     object\nvehicle_style         object\nhighway_mpg            int64\ncity_mpg               int64\nprice                  int64\nabove_average          int32\ndtype: object"
     },
     "execution_count": 171,
     "metadata": {},
     "output_type": "execute_result"
    }
   ],
   "source": [
    "df_sub.dtypes"
   ],
   "metadata": {
    "collapsed": false,
    "ExecuteTime": {
     "end_time": "2023-09-28T15:42:52.901779200Z",
     "start_time": "2023-09-28T15:42:52.885775700Z"
    }
   }
  },
  {
   "cell_type": "code",
   "execution_count": 172,
   "outputs": [],
   "source": [
    "cat = df_sub.columns[list(df_sub.dtypes == 'object')]"
   ],
   "metadata": {
    "collapsed": false,
    "ExecuteTime": {
     "end_time": "2023-09-28T15:42:53.155920200Z",
     "start_time": "2023-09-28T15:42:53.137916500Z"
    }
   }
  },
  {
   "cell_type": "code",
   "execution_count": 173,
   "outputs": [],
   "source": [
    "X =  df_sub.drop(['price','above_average'],axis=1)\n",
    "y = df_sub['above_average']\n",
    "X[cat] = X[cat].astype('category')\n",
    "\n",
    "X_train,X_test,y_train,y_test =train_test_split(X,y,test_size=0.2,random_state=42)\n",
    "X_train,X_val,y_train,y_val =train_test_split(X_train,y_train,test_size=0.25,random_state=42)\n",
    "\n",
    "# mutual_info_score(X_train,y_train)\n"
   ],
   "metadata": {
    "collapsed": false,
    "ExecuteTime": {
     "end_time": "2023-09-28T15:42:53.668449Z",
     "start_time": "2023-09-28T15:42:53.643443100Z"
    }
   }
  },
  {
   "cell_type": "code",
   "execution_count": 174,
   "outputs": [
    {
     "name": "stdout",
     "output_type": "stream",
     "text": [
      "make\n",
      "0.24\n",
      "\n",
      "model\n",
      "0.46\n",
      "\n",
      "transmission_type\n",
      "0.02\n",
      "\n",
      "vehicle_style\n",
      "0.08\n",
      "\n"
     ]
    }
   ],
   "source": [
    "#Q3\n",
    "for col in X_train[cat].columns:\n",
    "    print(col)\n",
    "    print(round(mutual_info_score(X_train[col],y_train),2))\n",
    "    print()"
   ],
   "metadata": {
    "collapsed": false,
    "ExecuteTime": {
     "end_time": "2023-09-28T15:42:54.335852500Z",
     "start_time": "2023-09-28T15:42:54.293843800Z"
    }
   }
  },
  {
   "cell_type": "code",
   "execution_count": 175,
   "outputs": [
    {
     "data": {
      "text/plain": "LogisticRegression(C=10, max_iter=1000, random_state=42, solver='liblinear')",
      "text/html": "<style>#sk-container-id-3 {color: black;background-color: white;}#sk-container-id-3 pre{padding: 0;}#sk-container-id-3 div.sk-toggleable {background-color: white;}#sk-container-id-3 label.sk-toggleable__label {cursor: pointer;display: block;width: 100%;margin-bottom: 0;padding: 0.3em;box-sizing: border-box;text-align: center;}#sk-container-id-3 label.sk-toggleable__label-arrow:before {content: \"▸\";float: left;margin-right: 0.25em;color: #696969;}#sk-container-id-3 label.sk-toggleable__label-arrow:hover:before {color: black;}#sk-container-id-3 div.sk-estimator:hover label.sk-toggleable__label-arrow:before {color: black;}#sk-container-id-3 div.sk-toggleable__content {max-height: 0;max-width: 0;overflow: hidden;text-align: left;background-color: #f0f8ff;}#sk-container-id-3 div.sk-toggleable__content pre {margin: 0.2em;color: black;border-radius: 0.25em;background-color: #f0f8ff;}#sk-container-id-3 input.sk-toggleable__control:checked~div.sk-toggleable__content {max-height: 200px;max-width: 100%;overflow: auto;}#sk-container-id-3 input.sk-toggleable__control:checked~label.sk-toggleable__label-arrow:before {content: \"▾\";}#sk-container-id-3 div.sk-estimator input.sk-toggleable__control:checked~label.sk-toggleable__label {background-color: #d4ebff;}#sk-container-id-3 div.sk-label input.sk-toggleable__control:checked~label.sk-toggleable__label {background-color: #d4ebff;}#sk-container-id-3 input.sk-hidden--visually {border: 0;clip: rect(1px 1px 1px 1px);clip: rect(1px, 1px, 1px, 1px);height: 1px;margin: -1px;overflow: hidden;padding: 0;position: absolute;width: 1px;}#sk-container-id-3 div.sk-estimator {font-family: monospace;background-color: #f0f8ff;border: 1px dotted black;border-radius: 0.25em;box-sizing: border-box;margin-bottom: 0.5em;}#sk-container-id-3 div.sk-estimator:hover {background-color: #d4ebff;}#sk-container-id-3 div.sk-parallel-item::after {content: \"\";width: 100%;border-bottom: 1px solid gray;flex-grow: 1;}#sk-container-id-3 div.sk-label:hover label.sk-toggleable__label {background-color: #d4ebff;}#sk-container-id-3 div.sk-serial::before {content: \"\";position: absolute;border-left: 1px solid gray;box-sizing: border-box;top: 0;bottom: 0;left: 50%;z-index: 0;}#sk-container-id-3 div.sk-serial {display: flex;flex-direction: column;align-items: center;background-color: white;padding-right: 0.2em;padding-left: 0.2em;position: relative;}#sk-container-id-3 div.sk-item {position: relative;z-index: 1;}#sk-container-id-3 div.sk-parallel {display: flex;align-items: stretch;justify-content: center;background-color: white;position: relative;}#sk-container-id-3 div.sk-item::before, #sk-container-id-3 div.sk-parallel-item::before {content: \"\";position: absolute;border-left: 1px solid gray;box-sizing: border-box;top: 0;bottom: 0;left: 50%;z-index: -1;}#sk-container-id-3 div.sk-parallel-item {display: flex;flex-direction: column;z-index: 1;position: relative;background-color: white;}#sk-container-id-3 div.sk-parallel-item:first-child::after {align-self: flex-end;width: 50%;}#sk-container-id-3 div.sk-parallel-item:last-child::after {align-self: flex-start;width: 50%;}#sk-container-id-3 div.sk-parallel-item:only-child::after {width: 0;}#sk-container-id-3 div.sk-dashed-wrapped {border: 1px dashed gray;margin: 0 0.4em 0.5em 0.4em;box-sizing: border-box;padding-bottom: 0.4em;background-color: white;}#sk-container-id-3 div.sk-label label {font-family: monospace;font-weight: bold;display: inline-block;line-height: 1.2em;}#sk-container-id-3 div.sk-label-container {text-align: center;}#sk-container-id-3 div.sk-container {/* jupyter's `normalize.less` sets `[hidden] { display: none; }` but bootstrap.min.css set `[hidden] { display: none !important; }` so we also need the `!important` here to be able to override the default hidden behavior on the sphinx rendered scikit-learn.org. See: https://github.com/scikit-learn/scikit-learn/issues/21755 */display: inline-block !important;position: relative;}#sk-container-id-3 div.sk-text-repr-fallback {display: none;}</style><div id=\"sk-container-id-3\" class=\"sk-top-container\"><div class=\"sk-text-repr-fallback\"><pre>LogisticRegression(C=10, max_iter=1000, random_state=42, solver=&#x27;liblinear&#x27;)</pre><b>In a Jupyter environment, please rerun this cell to show the HTML representation or trust the notebook. <br />On GitHub, the HTML representation is unable to render, please try loading this page with nbviewer.org.</b></div><div class=\"sk-container\" hidden><div class=\"sk-item\"><div class=\"sk-estimator sk-toggleable\"><input class=\"sk-toggleable__control sk-hidden--visually\" id=\"sk-estimator-id-3\" type=\"checkbox\" checked><label for=\"sk-estimator-id-3\" class=\"sk-toggleable__label sk-toggleable__label-arrow\">LogisticRegression</label><div class=\"sk-toggleable__content\"><pre>LogisticRegression(C=10, max_iter=1000, random_state=42, solver=&#x27;liblinear&#x27;)</pre></div></div></div></div></div>"
     },
     "execution_count": 175,
     "metadata": {},
     "output_type": "execute_result"
    }
   ],
   "source": [
    "#Q4\n",
    "\n",
    "X =  df_sub.drop(['price','above_average'],axis=1)\n",
    "X = pd.get_dummies(X,columns=cat)\n",
    "y = df_sub['above_average']\n",
    "\n",
    "X_train,X_test,y_train,y_test =train_test_split(X,y,test_size=0.2,random_state=42)\n",
    "X_train,X_val,y_train,y_val =train_test_split(X_train,y_train,test_size=0.25,random_state=42)\n",
    "\n",
    "model = LogisticRegression(solver='liblinear', C=10, max_iter=1000, random_state=42)\n",
    "model.fit(X_train, y_train)"
   ],
   "metadata": {
    "collapsed": false,
    "ExecuteTime": {
     "end_time": "2023-09-28T15:42:54.907681Z",
     "start_time": "2023-09-28T15:42:54.678631800Z"
    }
   }
  },
  {
   "cell_type": "code",
   "execution_count": 176,
   "outputs": [
    {
     "name": "stdout",
     "output_type": "stream",
     "text": [
      "Accuracy: 0.933\n"
     ]
    }
   ],
   "source": [
    "y_pred = model.predict(X_test)\n",
    "org_accuracy = accuracy_score(y_pred,y_test)\n",
    "print(f\"Accuracy: {org_accuracy:.3f}\")"
   ],
   "metadata": {
    "collapsed": false,
    "ExecuteTime": {
     "end_time": "2023-09-28T15:43:07.167079300Z",
     "start_time": "2023-09-28T15:43:07.135073100Z"
    }
   }
  },
  {
   "cell_type": "code",
   "execution_count": 182,
   "outputs": [],
   "source": [
    "#Q5 Feature elimination using Recurssive feature elimination\n",
    "rfe = RFE(estimator=model)\n",
    "rfe.fit(X_train, y_train)\n",
    "\n",
    "feature_ranking = pd.DataFrame({'Feature': X_train.columns, 'Ranking': rfe.ranking_})\n",
    "# feature_ranking.sort_values('Ranking', inplace=True)\n",
    "\n",
    "for i, feature in enumerate(feature_ranking['Feature']):\n",
    "    X_train_subset = X_train.drop(feature, axis=1)\n",
    "    X_test_subset = X_test.drop(feature, axis=1)\n",
    "\n",
    "    model.fit(X_train_subset, y_train)\n",
    "    accuracy = model.score(X_test_subset, y_test)\n",
    "    feature_ranking.at[i, 'accuracy_dif'] = abs(org_accuracy - accuracy)"
   ],
   "metadata": {
    "collapsed": false,
    "ExecuteTime": {
     "end_time": "2023-09-28T16:18:05.842876800Z",
     "start_time": "2023-09-28T16:15:30.930181300Z"
    }
   }
  },
  {
   "cell_type": "code",
   "execution_count": 183,
   "outputs": [
    {
     "data": {
      "text/plain": "                              Feature  Ranking  accuracy_dif\n0                                year      291      0.019303\n1                           engine_hp      219      0.024339\n2                    engine_cylinders      280      0.017625\n3                         highway_mpg      425      0.016786\n4                            city_mpg      186      0.016366\n..                                ...      ...           ...\n984   vehicle_style_Passenger Minivan        1      0.009652\n985       vehicle_style_Passenger Van        1      0.016786\n986  vehicle_style_Regular Cab Pickup        1      0.016786\n987               vehicle_style_Sedan      106      0.011330\n988               vehicle_style_Wagon       42      0.013009\n\n[989 rows x 3 columns]",
      "text/html": "<div>\n<style scoped>\n    .dataframe tbody tr th:only-of-type {\n        vertical-align: middle;\n    }\n\n    .dataframe tbody tr th {\n        vertical-align: top;\n    }\n\n    .dataframe thead th {\n        text-align: right;\n    }\n</style>\n<table border=\"1\" class=\"dataframe\">\n  <thead>\n    <tr style=\"text-align: right;\">\n      <th></th>\n      <th>Feature</th>\n      <th>Ranking</th>\n      <th>accuracy_dif</th>\n    </tr>\n  </thead>\n  <tbody>\n    <tr>\n      <th>0</th>\n      <td>year</td>\n      <td>291</td>\n      <td>0.019303</td>\n    </tr>\n    <tr>\n      <th>1</th>\n      <td>engine_hp</td>\n      <td>219</td>\n      <td>0.024339</td>\n    </tr>\n    <tr>\n      <th>2</th>\n      <td>engine_cylinders</td>\n      <td>280</td>\n      <td>0.017625</td>\n    </tr>\n    <tr>\n      <th>3</th>\n      <td>highway_mpg</td>\n      <td>425</td>\n      <td>0.016786</td>\n    </tr>\n    <tr>\n      <th>4</th>\n      <td>city_mpg</td>\n      <td>186</td>\n      <td>0.016366</td>\n    </tr>\n    <tr>\n      <th>...</th>\n      <td>...</td>\n      <td>...</td>\n      <td>...</td>\n    </tr>\n    <tr>\n      <th>984</th>\n      <td>vehicle_style_Passenger Minivan</td>\n      <td>1</td>\n      <td>0.009652</td>\n    </tr>\n    <tr>\n      <th>985</th>\n      <td>vehicle_style_Passenger Van</td>\n      <td>1</td>\n      <td>0.016786</td>\n    </tr>\n    <tr>\n      <th>986</th>\n      <td>vehicle_style_Regular Cab Pickup</td>\n      <td>1</td>\n      <td>0.016786</td>\n    </tr>\n    <tr>\n      <th>987</th>\n      <td>vehicle_style_Sedan</td>\n      <td>106</td>\n      <td>0.011330</td>\n    </tr>\n    <tr>\n      <th>988</th>\n      <td>vehicle_style_Wagon</td>\n      <td>42</td>\n      <td>0.013009</td>\n    </tr>\n  </tbody>\n</table>\n<p>989 rows × 3 columns</p>\n</div>"
     },
     "execution_count": 183,
     "metadata": {},
     "output_type": "execute_result"
    }
   ],
   "source": [
    "feature_ranking"
   ],
   "metadata": {
    "collapsed": false,
    "ExecuteTime": {
     "end_time": "2023-09-28T16:18:10.163904200Z",
     "start_time": "2023-09-28T16:18:10.130896600Z"
    }
   }
  },
  {
   "cell_type": "code",
   "execution_count": 188,
   "outputs": [
    {
     "name": "stderr",
     "output_type": "stream",
     "text": [
      "C:\\Users\\user\\miniconda3\\envs\\tensorflow_env\\lib\\site-packages\\sklearn\\linear_model\\_sag.py:350: ConvergenceWarning: The max_iter was reached which means the coef_ did not converge\n",
      "  warnings.warn(\n"
     ]
    },
    {
     "name": "stdout",
     "output_type": "stream",
     "text": [
      "Alpha : 0\n",
      "RMSE_val : 0.487\n",
      "RMSE_test : 0.486\n"
     ]
    },
    {
     "name": "stderr",
     "output_type": "stream",
     "text": [
      "C:\\Users\\user\\miniconda3\\envs\\tensorflow_env\\lib\\site-packages\\sklearn\\linear_model\\_sag.py:350: ConvergenceWarning: The max_iter was reached which means the coef_ did not converge\n",
      "  warnings.warn(\n"
     ]
    },
    {
     "name": "stdout",
     "output_type": "stream",
     "text": [
      "Alpha : 0.01\n",
      "RMSE_val : 0.487\n",
      "RMSE_test : 0.486\n"
     ]
    },
    {
     "name": "stderr",
     "output_type": "stream",
     "text": [
      "C:\\Users\\user\\miniconda3\\envs\\tensorflow_env\\lib\\site-packages\\sklearn\\linear_model\\_sag.py:350: ConvergenceWarning: The max_iter was reached which means the coef_ did not converge\n",
      "  warnings.warn(\n"
     ]
    },
    {
     "name": "stdout",
     "output_type": "stream",
     "text": [
      "Alpha : 0.1\n",
      "RMSE_val : 0.487\n",
      "RMSE_test : 0.486\n"
     ]
    },
    {
     "name": "stderr",
     "output_type": "stream",
     "text": [
      "C:\\Users\\user\\miniconda3\\envs\\tensorflow_env\\lib\\site-packages\\sklearn\\linear_model\\_sag.py:350: ConvergenceWarning: The max_iter was reached which means the coef_ did not converge\n",
      "  warnings.warn(\n"
     ]
    },
    {
     "name": "stdout",
     "output_type": "stream",
     "text": [
      "Alpha : 1\n",
      "RMSE_val : 0.487\n",
      "RMSE_test : 0.486\n",
      "Alpha : 10\n",
      "RMSE_val : 0.487\n",
      "RMSE_test : 0.487\n",
      "min RMSE : 0.486\n"
     ]
    },
    {
     "name": "stderr",
     "output_type": "stream",
     "text": [
      "C:\\Users\\user\\miniconda3\\envs\\tensorflow_env\\lib\\site-packages\\sklearn\\linear_model\\_sag.py:350: ConvergenceWarning: The max_iter was reached which means the coef_ did not converge\n",
      "  warnings.warn(\n"
     ]
    }
   ],
   "source": [
    "#Q6\n",
    "X =  df_sub.drop(['price','above_average'],axis=1)\n",
    "X = pd.get_dummies(X,columns=cat)\n",
    "y = np.log1p(df_sub['price'])\n",
    "\n",
    "X_train,X_test,y_train,y_test =train_test_split(X,y,test_size=0.2,random_state=42)\n",
    "X_train,X_val,y_train,y_val =train_test_split(X_train,y_train,test_size=0.25,random_state=42)\n",
    "a_list = [0, 0.01, 0.1, 1, 10]\n",
    "RMSE = []\n",
    "for a in a_list:\n",
    "    ridge = Ridge(alpha=a,solver='sag',random_state=42)\n",
    "    # Train the model on the training set\n",
    "    ridge.fit(X_train, y_train)\n",
    "\n",
    "    # Evaluate the model on the testing set\n",
    "    y_pred_val = ridge.predict(X_val)\n",
    "    y_pred_test = ridge.predict(X_test)\n",
    "    # rmse1 = np.sqrt(mse(y_val,y_pred_val))\n",
    "    rmse_val= mse(y_val, y_pred_val,squared=False)\n",
    "    rmse_test = mse(y_test, y_pred_test,squared=False)\n",
    "    RMSE.append(rmse_test)\n",
    "    print(f'Alpha : {a}')\n",
    "    print(f'RMSE_val : {round(rmse_val,3)}')\n",
    "    print(f'RMSE_test : {round(rmse_test,3)}')\n",
    "print(f'min RMSE : {round(min(RMSE),3)}')"
   ],
   "metadata": {
    "collapsed": false,
    "ExecuteTime": {
     "end_time": "2023-09-28T17:18:46.125329300Z",
     "start_time": "2023-09-28T17:14:51.584057400Z"
    }
   }
  }
 ],
 "metadata": {
  "kernelspec": {
   "display_name": "Python 3",
   "language": "python",
   "name": "python3"
  },
  "language_info": {
   "codemirror_mode": {
    "name": "ipython",
    "version": 2
   },
   "file_extension": ".py",
   "mimetype": "text/x-python",
   "name": "python",
   "nbconvert_exporter": "python",
   "pygments_lexer": "ipython2",
   "version": "2.7.6"
  }
 },
 "nbformat": 4,
 "nbformat_minor": 0
}
