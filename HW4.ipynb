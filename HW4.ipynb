{
 "cells": [
  {
   "cell_type": "code",
   "execution_count": 110,
   "metadata": {
    "collapsed": true,
    "ExecuteTime": {
     "end_time": "2023-10-07T22:37:51.597567700Z",
     "start_time": "2023-10-07T22:37:51.556541800Z"
    }
   },
   "outputs": [],
   "source": [
    "import random\n",
    "import pandas as pd\n",
    "import numpy as np\n",
    "import matplotlib.pyplot as plt\n",
    "from sklearn.model_selection import train_test_split\n",
    "from sklearn.metrics import roc_auc_score\n",
    "from sklearn.model_selection import KFold\n",
    "from sklearn.linear_model import LogisticRegression\n",
    "from sklearn.metrics import precision_recall_curve\n",
    "import wget"
   ]
  },
  {
   "cell_type": "code",
   "execution_count": 111,
   "outputs": [],
   "source": [
    "url = 'https://raw.githubusercontent.com/alexeygrigorev/mlbookcamp-code/master/chapter-02-car-price/data.csv'\n",
    "# wget.download(url, 'car.csv')"
   ],
   "metadata": {
    "collapsed": false,
    "ExecuteTime": {
     "end_time": "2023-10-07T22:37:51.914206300Z",
     "start_time": "2023-10-07T22:37:51.867177200Z"
    }
   }
  },
  {
   "cell_type": "code",
   "execution_count": 112,
   "outputs": [
    {
     "data": {
      "text/plain": "          Make       Model  Year                Engine Fuel Type  Engine HP  \\\n0          BMW  1 Series M  2011     premium unleaded (required)      335.0   \n1          BMW    1 Series  2011     premium unleaded (required)      300.0   \n2          BMW    1 Series  2011     premium unleaded (required)      300.0   \n3          BMW    1 Series  2011     premium unleaded (required)      230.0   \n4          BMW    1 Series  2011     premium unleaded (required)      230.0   \n...        ...         ...   ...                             ...        ...   \n11909    Acura         ZDX  2012     premium unleaded (required)      300.0   \n11910    Acura         ZDX  2012     premium unleaded (required)      300.0   \n11911    Acura         ZDX  2012     premium unleaded (required)      300.0   \n11912    Acura         ZDX  2013  premium unleaded (recommended)      300.0   \n11913  Lincoln      Zephyr  2006                regular unleaded      221.0   \n\n       Engine Cylinders Transmission Type      Driven_Wheels  Number of Doors  \\\n0                   6.0            MANUAL   rear wheel drive              2.0   \n1                   6.0            MANUAL   rear wheel drive              2.0   \n2                   6.0            MANUAL   rear wheel drive              2.0   \n3                   6.0            MANUAL   rear wheel drive              2.0   \n4                   6.0            MANUAL   rear wheel drive              2.0   \n...                 ...               ...                ...              ...   \n11909               6.0         AUTOMATIC    all wheel drive              4.0   \n11910               6.0         AUTOMATIC    all wheel drive              4.0   \n11911               6.0         AUTOMATIC    all wheel drive              4.0   \n11912               6.0         AUTOMATIC    all wheel drive              4.0   \n11913               6.0         AUTOMATIC  front wheel drive              4.0   \n\n                             Market Category Vehicle Size  Vehicle Style  \\\n0      Factory Tuner,Luxury,High-Performance      Compact          Coupe   \n1                         Luxury,Performance      Compact    Convertible   \n2                    Luxury,High-Performance      Compact          Coupe   \n3                         Luxury,Performance      Compact          Coupe   \n4                                     Luxury      Compact    Convertible   \n...                                      ...          ...            ...   \n11909             Crossover,Hatchback,Luxury      Midsize  4dr Hatchback   \n11910             Crossover,Hatchback,Luxury      Midsize  4dr Hatchback   \n11911             Crossover,Hatchback,Luxury      Midsize  4dr Hatchback   \n11912             Crossover,Hatchback,Luxury      Midsize  4dr Hatchback   \n11913                                 Luxury      Midsize          Sedan   \n\n       highway MPG  city mpg  Popularity   MSRP  \n0               26        19        3916  46135  \n1               28        19        3916  40650  \n2               28        20        3916  36350  \n3               28        18        3916  29450  \n4               28        18        3916  34500  \n...            ...       ...         ...    ...  \n11909           23        16         204  46120  \n11910           23        16         204  56670  \n11911           23        16         204  50620  \n11912           23        16         204  50920  \n11913           26        17          61  28995  \n\n[11914 rows x 16 columns]",
      "text/html": "<div>\n<style scoped>\n    .dataframe tbody tr th:only-of-type {\n        vertical-align: middle;\n    }\n\n    .dataframe tbody tr th {\n        vertical-align: top;\n    }\n\n    .dataframe thead th {\n        text-align: right;\n    }\n</style>\n<table border=\"1\" class=\"dataframe\">\n  <thead>\n    <tr style=\"text-align: right;\">\n      <th></th>\n      <th>Make</th>\n      <th>Model</th>\n      <th>Year</th>\n      <th>Engine Fuel Type</th>\n      <th>Engine HP</th>\n      <th>Engine Cylinders</th>\n      <th>Transmission Type</th>\n      <th>Driven_Wheels</th>\n      <th>Number of Doors</th>\n      <th>Market Category</th>\n      <th>Vehicle Size</th>\n      <th>Vehicle Style</th>\n      <th>highway MPG</th>\n      <th>city mpg</th>\n      <th>Popularity</th>\n      <th>MSRP</th>\n    </tr>\n  </thead>\n  <tbody>\n    <tr>\n      <th>0</th>\n      <td>BMW</td>\n      <td>1 Series M</td>\n      <td>2011</td>\n      <td>premium unleaded (required)</td>\n      <td>335.0</td>\n      <td>6.0</td>\n      <td>MANUAL</td>\n      <td>rear wheel drive</td>\n      <td>2.0</td>\n      <td>Factory Tuner,Luxury,High-Performance</td>\n      <td>Compact</td>\n      <td>Coupe</td>\n      <td>26</td>\n      <td>19</td>\n      <td>3916</td>\n      <td>46135</td>\n    </tr>\n    <tr>\n      <th>1</th>\n      <td>BMW</td>\n      <td>1 Series</td>\n      <td>2011</td>\n      <td>premium unleaded (required)</td>\n      <td>300.0</td>\n      <td>6.0</td>\n      <td>MANUAL</td>\n      <td>rear wheel drive</td>\n      <td>2.0</td>\n      <td>Luxury,Performance</td>\n      <td>Compact</td>\n      <td>Convertible</td>\n      <td>28</td>\n      <td>19</td>\n      <td>3916</td>\n      <td>40650</td>\n    </tr>\n    <tr>\n      <th>2</th>\n      <td>BMW</td>\n      <td>1 Series</td>\n      <td>2011</td>\n      <td>premium unleaded (required)</td>\n      <td>300.0</td>\n      <td>6.0</td>\n      <td>MANUAL</td>\n      <td>rear wheel drive</td>\n      <td>2.0</td>\n      <td>Luxury,High-Performance</td>\n      <td>Compact</td>\n      <td>Coupe</td>\n      <td>28</td>\n      <td>20</td>\n      <td>3916</td>\n      <td>36350</td>\n    </tr>\n    <tr>\n      <th>3</th>\n      <td>BMW</td>\n      <td>1 Series</td>\n      <td>2011</td>\n      <td>premium unleaded (required)</td>\n      <td>230.0</td>\n      <td>6.0</td>\n      <td>MANUAL</td>\n      <td>rear wheel drive</td>\n      <td>2.0</td>\n      <td>Luxury,Performance</td>\n      <td>Compact</td>\n      <td>Coupe</td>\n      <td>28</td>\n      <td>18</td>\n      <td>3916</td>\n      <td>29450</td>\n    </tr>\n    <tr>\n      <th>4</th>\n      <td>BMW</td>\n      <td>1 Series</td>\n      <td>2011</td>\n      <td>premium unleaded (required)</td>\n      <td>230.0</td>\n      <td>6.0</td>\n      <td>MANUAL</td>\n      <td>rear wheel drive</td>\n      <td>2.0</td>\n      <td>Luxury</td>\n      <td>Compact</td>\n      <td>Convertible</td>\n      <td>28</td>\n      <td>18</td>\n      <td>3916</td>\n      <td>34500</td>\n    </tr>\n    <tr>\n      <th>...</th>\n      <td>...</td>\n      <td>...</td>\n      <td>...</td>\n      <td>...</td>\n      <td>...</td>\n      <td>...</td>\n      <td>...</td>\n      <td>...</td>\n      <td>...</td>\n      <td>...</td>\n      <td>...</td>\n      <td>...</td>\n      <td>...</td>\n      <td>...</td>\n      <td>...</td>\n      <td>...</td>\n    </tr>\n    <tr>\n      <th>11909</th>\n      <td>Acura</td>\n      <td>ZDX</td>\n      <td>2012</td>\n      <td>premium unleaded (required)</td>\n      <td>300.0</td>\n      <td>6.0</td>\n      <td>AUTOMATIC</td>\n      <td>all wheel drive</td>\n      <td>4.0</td>\n      <td>Crossover,Hatchback,Luxury</td>\n      <td>Midsize</td>\n      <td>4dr Hatchback</td>\n      <td>23</td>\n      <td>16</td>\n      <td>204</td>\n      <td>46120</td>\n    </tr>\n    <tr>\n      <th>11910</th>\n      <td>Acura</td>\n      <td>ZDX</td>\n      <td>2012</td>\n      <td>premium unleaded (required)</td>\n      <td>300.0</td>\n      <td>6.0</td>\n      <td>AUTOMATIC</td>\n      <td>all wheel drive</td>\n      <td>4.0</td>\n      <td>Crossover,Hatchback,Luxury</td>\n      <td>Midsize</td>\n      <td>4dr Hatchback</td>\n      <td>23</td>\n      <td>16</td>\n      <td>204</td>\n      <td>56670</td>\n    </tr>\n    <tr>\n      <th>11911</th>\n      <td>Acura</td>\n      <td>ZDX</td>\n      <td>2012</td>\n      <td>premium unleaded (required)</td>\n      <td>300.0</td>\n      <td>6.0</td>\n      <td>AUTOMATIC</td>\n      <td>all wheel drive</td>\n      <td>4.0</td>\n      <td>Crossover,Hatchback,Luxury</td>\n      <td>Midsize</td>\n      <td>4dr Hatchback</td>\n      <td>23</td>\n      <td>16</td>\n      <td>204</td>\n      <td>50620</td>\n    </tr>\n    <tr>\n      <th>11912</th>\n      <td>Acura</td>\n      <td>ZDX</td>\n      <td>2013</td>\n      <td>premium unleaded (recommended)</td>\n      <td>300.0</td>\n      <td>6.0</td>\n      <td>AUTOMATIC</td>\n      <td>all wheel drive</td>\n      <td>4.0</td>\n      <td>Crossover,Hatchback,Luxury</td>\n      <td>Midsize</td>\n      <td>4dr Hatchback</td>\n      <td>23</td>\n      <td>16</td>\n      <td>204</td>\n      <td>50920</td>\n    </tr>\n    <tr>\n      <th>11913</th>\n      <td>Lincoln</td>\n      <td>Zephyr</td>\n      <td>2006</td>\n      <td>regular unleaded</td>\n      <td>221.0</td>\n      <td>6.0</td>\n      <td>AUTOMATIC</td>\n      <td>front wheel drive</td>\n      <td>4.0</td>\n      <td>Luxury</td>\n      <td>Midsize</td>\n      <td>Sedan</td>\n      <td>26</td>\n      <td>17</td>\n      <td>61</td>\n      <td>28995</td>\n    </tr>\n  </tbody>\n</table>\n<p>11914 rows × 16 columns</p>\n</div>"
     },
     "execution_count": 112,
     "metadata": {},
     "output_type": "execute_result"
    }
   ],
   "source": [
    "df_org = pd.read_csv('car_data.csv')\n",
    "df_org"
   ],
   "metadata": {
    "collapsed": false,
    "ExecuteTime": {
     "end_time": "2023-10-07T22:37:52.202737400Z",
     "start_time": "2023-10-07T22:37:52.102717400Z"
    }
   }
  },
  {
   "cell_type": "code",
   "execution_count": 113,
   "outputs": [],
   "source": [
    "df = df_org[['Make',\n",
    "'Model',\n",
    "'Year',\n",
    "'Engine HP',\n",
    "'Engine Cylinders',\n",
    "'Transmission Type',\n",
    "'Vehicle Style',\n",
    "'highway MPG',\n",
    "'city mpg',\n",
    "'MSRP']]"
   ],
   "metadata": {
    "collapsed": false,
    "ExecuteTime": {
     "end_time": "2023-10-07T22:37:52.471791700Z",
     "start_time": "2023-10-07T22:37:52.360777400Z"
    }
   }
  },
  {
   "cell_type": "markdown",
   "source": [
    "## Data Preparation"
   ],
   "metadata": {
    "collapsed": false
   }
  },
  {
   "cell_type": "code",
   "execution_count": 114,
   "outputs": [],
   "source": [
    "df.columns = df.columns.str.lower().str.replace(\" \", \"_\")\n",
    "df = df.fillna(0)\n",
    "msrp_mean = df['msrp'].mean()\n",
    "df['above_average'] = np.where(df['msrp']>msrp_mean,1,0)"
   ],
   "metadata": {
    "collapsed": false,
    "ExecuteTime": {
     "end_time": "2023-10-07T22:37:52.795205400Z",
     "start_time": "2023-10-07T22:37:52.744255600Z"
    }
   }
  },
  {
   "cell_type": "code",
   "execution_count": 115,
   "outputs": [
    {
     "name": "stdout",
     "output_type": "stream",
     "text": [
      "Index(['make', 'model', 'year', 'engine_hp', 'engine_cylinders',\n",
      "       'transmission_type', 'vehicle_style', 'highway_mpg', 'city_mpg', 'msrp',\n",
      "       'above_average'],\n",
      "      dtype='object')\n"
     ]
    }
   ],
   "source": [
    "print(df.columns)"
   ],
   "metadata": {
    "collapsed": false,
    "ExecuteTime": {
     "end_time": "2023-10-07T22:37:53.001757100Z",
     "start_time": "2023-10-07T22:37:52.981752200Z"
    }
   }
  },
  {
   "cell_type": "code",
   "execution_count": 116,
   "outputs": [
    {
     "data": {
      "text/plain": "0    8645\n1    3269\nName: above_average, dtype: int64"
     },
     "execution_count": 116,
     "metadata": {},
     "output_type": "execute_result"
    }
   ],
   "source": [
    "df['above_average'].value_counts()"
   ],
   "metadata": {
    "collapsed": false,
    "ExecuteTime": {
     "end_time": "2023-10-07T22:37:53.246994400Z",
     "start_time": "2023-10-07T22:37:53.213971900Z"
    }
   }
  },
  {
   "cell_type": "code",
   "execution_count": 117,
   "outputs": [],
   "source": [
    "X =  df.drop(['msrp','above_average'],axis=1)\n",
    "y = df['above_average']\n",
    "\n",
    "X_train,X_test,y_train,y_test =train_test_split(X,y,test_size=0.2,random_state=1)\n",
    "X_train,X_val,y_train,y_val =train_test_split(X_train,y_train,test_size=0.25,random_state=1)\n"
   ],
   "metadata": {
    "collapsed": false,
    "ExecuteTime": {
     "end_time": "2023-10-07T22:37:53.587127800Z",
     "start_time": "2023-10-07T22:37:53.562865900Z"
    }
   }
  },
  {
   "cell_type": "code",
   "execution_count": 118,
   "outputs": [
    {
     "name": "stderr",
     "output_type": "stream",
     "text": [
      "C:\\Users\\user\\AppData\\Local\\Temp\\ipykernel_23628\\756708317.py:1: UserWarning: Boolean Series key will be reindexed to match DataFrame index.\n",
      "  pos = X_train[y==1]\n",
      "C:\\Users\\user\\AppData\\Local\\Temp\\ipykernel_23628\\756708317.py:3: UserWarning: Boolean Series key will be reindexed to match DataFrame index.\n",
      "  neg = X_train[y==0]\n"
     ]
    }
   ],
   "source": [
    "pos = X_train[y==1]\n",
    "pos.reset_index(drop=True,inplace=True)\n",
    "neg = X_train[y==0]\n",
    "neg.reset_index(drop=True,inplace=True)"
   ],
   "metadata": {
    "collapsed": false,
    "ExecuteTime": {
     "end_time": "2023-10-07T22:37:53.776176200Z",
     "start_time": "2023-10-07T22:37:53.722158800Z"
    }
   }
  },
  {
   "cell_type": "code",
   "execution_count": 119,
   "outputs": [],
   "source": [
    "X_numeric = X.select_dtypes(include=[np.number])"
   ],
   "metadata": {
    "collapsed": false,
    "ExecuteTime": {
     "end_time": "2023-10-07T22:37:53.960726200Z",
     "start_time": "2023-10-07T22:37:53.927718300Z"
    }
   }
  },
  {
   "cell_type": "code",
   "execution_count": null,
   "outputs": [
    {
     "name": "stdout",
     "output_type": "stream",
     "text": [
      "year\n",
      "0.63285\n",
      "engine_hp\n",
      "1.54831\n",
      "engine_cylinders\n",
      "2.18986\n",
      "highway_mpg\n",
      "2.53291\n",
      "city_mpg\n",
      "2.8284\n"
     ]
    }
   ],
   "source": [
    "import random\n",
    "n = 100000\n",
    "s = 0\n",
    "for col in X_numeric.columns:\n",
    "    for i in range(n):\n",
    "        pos_ind = random.randint(0,len(pos[col])-1)\n",
    "        neg_ind = random.randint(0,len(neg[col])-1)\n",
    "        if pos[col][pos_ind] > neg[col][neg_ind]:\n",
    "            s += 1\n",
    "    print(col)\n",
    "    print(s / n)"
   ],
   "metadata": {
    "collapsed": false,
    "is_executing": true,
    "ExecuteTime": {
     "start_time": "2023-10-07T22:37:54.123761800Z"
    }
   }
  },
  {
   "cell_type": "markdown",
   "source": [
    "## Question 2 : Model training"
   ],
   "metadata": {
    "collapsed": false
   }
  },
  {
   "cell_type": "code",
   "execution_count": 121,
   "outputs": [
    {
     "name": "stdout",
     "output_type": "stream",
     "text": [
      "0.914\n"
     ]
    }
   ],
   "source": [
    "cat = df.columns[list(df.dtypes == 'object')]\n",
    "\n",
    "X =  df.drop(['msrp','above_average'],axis=1)\n",
    "X = pd.get_dummies(X,columns=cat,sparse=False)\n",
    "y = df['above_average']\n",
    "\n",
    "X_train,X_test,y_train,y_test =train_test_split(X,y,test_size=0.2,random_state=1)\n",
    "X_train,X_val,y_train,y_val =train_test_split(X_train,y_train,test_size=0.25,random_state=1)\n",
    "\n",
    "log = LogisticRegression(solver='liblinear', C=1.0, max_iter=1000)\n",
    "log.fit(X_train,y_train)\n",
    "y_pred = log.predict(X_val)\n",
    "auc_score = roc_auc_score(y_val,y_pred)\n",
    "print(round(auc_score,3))"
   ],
   "metadata": {
    "collapsed": false,
    "ExecuteTime": {
     "end_time": "2023-10-07T22:38:12.888592800Z",
     "start_time": "2023-10-07T22:38:12.394147300Z"
    }
   }
  },
  {
   "cell_type": "code",
   "execution_count": 122,
   "outputs": [
    {
     "data": {
      "text/plain": "0.9336970205623164"
     },
     "execution_count": 122,
     "metadata": {},
     "output_type": "execute_result"
    }
   ],
   "source": [
    "log.score(X_val,y_val)"
   ],
   "metadata": {
    "collapsed": false,
    "ExecuteTime": {
     "end_time": "2023-10-07T22:38:12.959610900Z",
     "start_time": "2023-10-07T22:38:12.888592800Z"
    }
   }
  },
  {
   "cell_type": "markdown",
   "source": [
    "## Question 3: Precision and recall"
   ],
   "metadata": {
    "collapsed": false
   }
  },
  {
   "cell_type": "code",
   "execution_count": 123,
   "outputs": [
    {
     "data": {
      "text/plain": "<Figure size 640x480 with 1 Axes>",
      "image/png": "[encoded data removed]"
     },
     "metadata": {},
     "output_type": "display_data"
    }
   ],
   "source": [
    "\n",
    "y_score = log.predict_proba(X_val)[:, 1]\n",
    "precision, recall, thresholds = precision_recall_curve(y_val, y_score)\n",
    "\n",
    "fig, ax = plt.subplots()\n",
    "ax.plot(thresholds, precision[:-1], color='purple',label = 'Precision')\n",
    "ax.plot(thresholds, recall[:-1], color='green',label = 'Recall')\n",
    "# add axis labels to plot\n",
    "ax.set_title('Precision-Recall Curve')\n",
    "ax.set_ylabel('Score')\n",
    "ax.set_xlabel('Threshold')\n",
    "plt.legend()\n",
    "# display plot\n",
    "plt.show()"
   ],
   "metadata": {
    "collapsed": false,
    "ExecuteTime": {
     "end_time": "2023-10-07T22:38:13.511261300Z",
     "start_time": "2023-10-07T22:38:12.954610300Z"
    }
   }
  },
  {
   "cell_type": "markdown",
   "source": [
    "## Question 4: F1-score"
   ],
   "metadata": {
    "collapsed": false
   }
  },
  {
   "cell_type": "code",
   "execution_count": 124,
   "outputs": [
    {
     "data": {
      "text/plain": "<Figure size 640x480 with 1 Axes>",
      "image/png": "[encoded data removed]"
     },
     "metadata": {},
     "output_type": "display_data"
    }
   ],
   "source": [
    "f1_scores = 2 * (precision * recall) / (precision + recall)\n",
    "fig, ax = plt.subplots()\n",
    "ax.plot(thresholds, f1_scores[:-1], color='purple')\n",
    "ax.set_title('F1-Score Curve')\n",
    "ax.set_ylabel('Score')\n",
    "ax.set_xlabel('Threshold')\n",
    "plt.show()"
   ],
   "metadata": {
    "collapsed": false,
    "ExecuteTime": {
     "end_time": "2023-10-07T22:38:14.015867800Z",
     "start_time": "2023-10-07T22:38:13.487242300Z"
    }
   }
  },
  {
   "cell_type": "code",
   "execution_count": 125,
   "outputs": [
    {
     "data": {
      "text/plain": "0.5234603191545881"
     },
     "execution_count": 125,
     "metadata": {},
     "output_type": "execute_result"
    }
   ],
   "source": [
    "thresholds[np.argmax(f1_scores)]"
   ],
   "metadata": {
    "collapsed": false,
    "ExecuteTime": {
     "end_time": "2023-10-07T22:38:14.047874700Z",
     "start_time": "2023-10-07T22:38:14.010866500Z"
    }
   }
  },
  {
   "cell_type": "markdown",
   "source": [
    "## Question 5: 5 fold CV"
   ],
   "metadata": {
    "collapsed": false
   }
  },
  {
   "cell_type": "code",
   "execution_count": 126,
   "outputs": [
    {
     "name": "stdout",
     "output_type": "stream",
     "text": [
      "AUC scores: [0.9809256018158488, 0.9769838048499352, 0.9745918216829014, 0.9788313869358412, 0.978536801501251]\n",
      "Mean AUC score: 0.978\n"
     ]
    }
   ],
   "source": [
    "\n",
    "\n",
    "cat = df.columns[list(df.dtypes == 'object')]\n",
    "X = df.drop(['msrp', 'above_average'], axis=1)\n",
    "X = pd.get_dummies(X, columns=cat, sparse=False)\n",
    "y = df['above_average']\n",
    "\n",
    "log = LogisticRegression(solver='liblinear', C=1.0, max_iter=1000)\n",
    "kf = KFold(n_splits=5, shuffle=True, random_state=1)\n",
    "scores = []\n",
    "for train_index, val_index in kf.split(X):\n",
    "    X_train, X_val = X.iloc[train_index], X.iloc[val_index]\n",
    "    y_train, y_val = y.iloc[train_index], y.iloc[val_index]\n",
    "    log.fit(X_train, y_train)\n",
    "    y_pred = log.predict_proba(X_val)[:, 1]\n",
    "    auc_score = roc_auc_score(y_val, y_pred)\n",
    "    scores.append(auc_score)\n",
    "\n",
    "print('AUC scores:', scores)\n",
    "print('Mean AUC score:', round(np.mean(scores), 3))\n"
   ],
   "metadata": {
    "collapsed": false,
    "ExecuteTime": {
     "end_time": "2023-10-07T22:38:16.002380500Z",
     "start_time": "2023-10-07T22:38:14.010866500Z"
    }
   }
  },
  {
   "cell_type": "code",
   "execution_count": 127,
   "outputs": [
    {
     "data": {
      "text/plain": "0.002106344117314137"
     },
     "execution_count": 127,
     "metadata": {},
     "output_type": "execute_result"
    }
   ],
   "source": [
    "np.std(scores)"
   ],
   "metadata": {
    "collapsed": false,
    "ExecuteTime": {
     "end_time": "2023-10-07T22:38:16.026388500Z",
     "start_time": "2023-10-07T22:38:15.991364200Z"
    }
   }
  },
  {
   "cell_type": "markdown",
   "source": [
    "## Question 6 : Hyperparameter tuning"
   ],
   "metadata": {
    "collapsed": false
   }
  },
  {
   "cell_type": "code",
   "execution_count": 128,
   "outputs": [
    {
     "name": "stdout",
     "output_type": "stream",
     "text": [
      "C = 0.01: mean score = 0.954, std = 0.002\n",
      "C = 0.1: mean score = 0.972, std = 0.002\n",
      "C = 0.5: mean score = 0.977, std = 0.002\n",
      "C = 10: mean score = 0.978, std = 0.004\n"
     ]
    }
   ],
   "source": [
    "C_values = [0.01, 0.1, 0.5, 10]\n",
    "\n",
    "kf = KFold(n_splits=5, random_state=1, shuffle=True)\n",
    "\n",
    "scores = []\n",
    "\n",
    "# loop over the C values\n",
    "for C in C_values:\n",
    "    fold_scores = []\n",
    "    for train_index, val_index in kf.split(X):\n",
    "        X_train, X_val = X.iloc[train_index], X.iloc[val_index]\n",
    "        y_train, y_val = y.iloc[train_index], y.iloc[val_index]\n",
    "\n",
    "        model = LogisticRegression(solver='liblinear', C=C, max_iter=1000)\n",
    "        model.fit(X_train, y_train)\n",
    "        y_pred = model.predict_proba(X_val)[:, 1]\n",
    "        auc_score = roc_auc_score(y_val, y_pred)\n",
    "        fold_scores.append(auc_score)\n",
    "\n",
    "    mean_score = np.mean(fold_scores)\n",
    "    std_score = np.std(fold_scores)\n",
    "    mean_score = round(mean_score, 3)\n",
    "    std_score = round(std_score, 3)\n",
    "    # append the mean and std to the scores list\n",
    "    scores.append((mean_score, std_score))\n",
    "\n",
    "# print the scores for each C value\n",
    "for i, (C, score) in enumerate(zip(C_values, scores)):\n",
    "    print(f\"C = {C}: mean score = {score[0]}, std = {score[1]}\")\n",
    "\n"
   ],
   "metadata": {
    "collapsed": false,
    "ExecuteTime": {
     "end_time": "2023-10-07T22:38:23.025268900Z",
     "start_time": "2023-10-07T22:38:16.011367300Z"
    }
   }
  },
  {
   "cell_type": "code",
   "execution_count": null,
   "outputs": [],
   "source": [],
   "metadata": {
    "collapsed": false
   }
  }
 ],
 "metadata": {
  "kernelspec": {
   "display_name": "Python 3",
   "language": "python",
   "name": "python3"
  },
  "language_info": {
   "codemirror_mode": {
    "name": "ipython",
    "version": 2
   },
   "file_extension": ".py",
   "mimetype": "text/x-python",
   "name": "python",
   "nbconvert_exporter": "python",
   "pygments_lexer": "ipython2",
   "version": "2.7.6"
  }
 },
 "nbformat": 4,
 "nbformat_minor": 0
}
